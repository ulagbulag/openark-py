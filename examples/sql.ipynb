{
 "cells": [
  {
   "cell_type": "markdown",
   "metadata": {},
   "source": [
    "# OpenARK SQL Query Example\n",
    "\n",
    "In this notebook, you can study some `OpenARK` features as below:\n",
    "\n",
    "1. Load your Global Namespace\n",
    "    - Parse the online account information from environment variables\n",
    "    - Parse the kubernetes account information from files\n",
    "1. Query with all your datasets in Global Namespace\n",
    "    - SQL Engine: integrated in `polars`\n",
    "    - Use `%%sql` iPython magic to simply query and visualize the data.\n",
    "1. Use `polars` DataFrames as `pandas`\n",
    "    - `LazyFrame` vs `DataFrame`"
   ]
  },
  {
   "cell_type": "markdown",
   "metadata": {},
   "source": [
    "## Requirements\n",
    "\n",
    "* `OpenARK` python client library\n",
    "    ```bash\n",
    "        $ pip install openark\n",
    "    ```\n",
    "* `OpenARK` online session: one of\n",
    "    - `VINE` desktop\n",
    "    - `VINE` remote SSH session\n",
    "* `optimizer-metric` model (example dataset)"
   ]
  },
  {
   "cell_type": "markdown",
   "metadata": {},
   "source": [
    "## Import Libraries\n",
    "\n",
    "The libraries below are going to be imported:\n",
    "\n",
    "* openark: to load and query your own global datasets\n"
   ]
  },
  {
   "cell_type": "code",
   "execution_count": null,
   "metadata": {},
   "outputs": [],
   "source": [
    "from openark import OpenArk"
   ]
  },
  {
   "cell_type": "markdown",
   "metadata": {},
   "source": [
    "## Initialize OpenARK Client\n",
    "\n",
    "The `OpenArk` class simply retrieves user information in a simple way and provides all the convenient options available as methods.\n",
    "When you instantiate this class, it automatically collects information about the `VINE` session you belong to.\n",
    "Specifically:\n",
    "\n",
    "1. Parse the online account information from environment variables\n",
    "1. Parse the kubernetes account information from files\n",
    "1. If the Python executor is running in `iPython`, various convenient magic items such as `%%sql` are added to iPython."
   ]
  },
  {
   "cell_type": "code",
   "execution_count": null,
   "metadata": {},
   "outputs": [],
   "source": [
    "# Create a OpenARK instance\n",
    "openark = OpenArk()"
   ]
  },
  {
   "cell_type": "markdown",
   "metadata": {},
   "source": [
    "## Query with `%%sql` magic\n",
    "\n",
    "`SQL` is the easiest way to intuitively view and analyze your data. \n",
    "You can leverage any dataset you have access to using SQL queries.\n",
    "SQL commands can be used through the `sql` method on the `openark` object,\n",
    "but you can also execute and visualize SQL statements directly in a paragraph of code by inserting the `%%sql` keyword at the top of the code,\n",
    "as in the example below."
   ]
  },
  {
   "cell_type": "code",
   "execution_count": null,
   "metadata": {},
   "outputs": [],
   "source": [
    "%%sql\n",
    "\n",
    "SELECT name, namespace, kind, type, op, sum((end_ns - begin_ns) / 1000000000.0) as elapsed_sec, sum(len) as bytes, count() as len\n",
    "FROM optimizer_metric\n",
    "GROUP BY name, namespace, kind, type, op\n",
    "ORDER BY name, namespace, kind, type, op"
   ]
  },
  {
   "cell_type": "markdown",
   "metadata": {},
   "source": [
    "### Query and Visualize with other styles\n",
    "\n",
    "`%%sql` magic can interpret, execute and visualize SQL statements.\n",
    "But you may want to visualize the results in another forms such as plots .\n",
    "It is possible by adding the desired style after the `%%sql` keyword, as shown in the example below."
   ]
  },
  {
   "cell_type": "code",
   "execution_count": null,
   "metadata": {},
   "outputs": [],
   "source": [
    "%%sql timeseries(y='mbps', hue='op')\n",
    "\n",
    "SELECT __timestamp, name, namespace, kind, type, op, len * 1000.0 / (end_ns - begin_ns) as mbps\n",
    "FROM optimizer_metric\n",
    "WHERE kind = 'Storage' AND op = 'Put'\n",
    "ORDER BY name, namespace, kind, type, op"
   ]
  },
  {
   "cell_type": "markdown",
   "metadata": {},
   "source": [
    "## Query with `OpenArk` instance\n",
    "\n",
    "`%%sql` magic is definitely useful for easily visualizing and analyzing data.\n",
    "However, you may want to perform more advanced processing of the processed data using other modules and algorithms in Python.\n",
    "You can use the `get_global_namespace` method of an `OpenArk` instance to obtain an `OpenArkGlobalNamespace` instance containing all available dataset metadata.\n",
    "\n",
    "The `OpenArkGlobalNamespace` class supports various high-level methods for SQL queries.\n",
    "Among them, you can obtain lazy (*unprocessed original*) frames by using the `sql` method.\n",
    "\n",
    "The `LazyFrame` has a plan to analyze the schema of the dataset and process data that matches the query.\n",
    "In addition, various optimization processes are applied to the LazyFrame, such as unifying redundant data processing prior to execution.\n",
    "In this way, the LazyFrame can be seen as the state just before processing and executing SQL."
   ]
  },
  {
   "cell_type": "code",
   "execution_count": null,
   "metadata": {},
   "outputs": [],
   "source": [
    "# get your own global namespace\n",
    "gn = openark.get_global_namespace()\n",
    "\n",
    "# preprocess the SQL\n",
    "my_dataset = 'optimizer_metric'\n",
    "my_group = ','.join(['name', 'namespace', 'kind', 'type', 'op'])\n",
    "unit_ns = 1000_000_000.0\n",
    "\n",
    "# parse the SQL into `LazyFrame`\n",
    "lf = gn.sql(f'''\n",
    "SELECT {my_group}, sum((end_ns - begin_ns) / {unit_ns}) as elapsed_sec, sum(len) as bytes, count() as len\n",
    "FROM {my_dataset}\n",
    "GROUP BY {my_group}\n",
    "ORDER BY {my_group}\n",
    "''')\n",
    "lf"
   ]
  },
  {
   "cell_type": "markdown",
   "metadata": {},
   "source": [
    "### Execute the LazyFrame\n",
    "\n",
    "To *locally* execute a query contained in a LazyFrame object,\n",
    "you can perform the `collect` method as shown in the example below."
   ]
  },
  {
   "cell_type": "code",
   "execution_count": null,
   "metadata": {},
   "outputs": [],
   "source": [
    "df = lf.collect()\n",
    "df"
   ]
  },
  {
   "cell_type": "markdown",
   "metadata": {},
   "source": [
    "### Execute and Visualize\n",
    "\n",
    "As in the case of the `%%sql` magic keyword, the `sql_and_draw` method allows you to collect the results and even visualize them in your desired style.\n",
    "The example below guides you through how to apply the same style as in the *Magic* case above."
   ]
  },
  {
   "cell_type": "code",
   "execution_count": null,
   "metadata": {},
   "outputs": [],
   "source": [
    "sql = f'''\n",
    "SELECT __timestamp, {my_group}, len * {1_000_000.0 * unit_ns} / (end_ns - begin_ns) as mbps\n",
    "FROM optimizer_metric\n",
    "WHERE kind = 'Storage' AND op = 'Put'\n",
    "ORDER BY {my_group}\n",
    "'''\n",
    "\n",
    "gn.sql_and_draw(sql, style=\"timeseries(y='mbps', hue='op')\")"
   ]
  }
 ],
 "metadata": {
  "kernelspec": {
   "display_name": "Python 3",
   "language": "python",
   "name": "python3"
  },
  "language_info": {
   "codemirror_mode": {
    "name": "ipython",
    "version": 3
   },
   "file_extension": ".py",
   "mimetype": "text/x-python",
   "name": "python",
   "nbconvert_exporter": "python",
   "pygments_lexer": "ipython3",
   "version": "3.10.12"
  }
 },
 "nbformat": 4,
 "nbformat_minor": 2
}
